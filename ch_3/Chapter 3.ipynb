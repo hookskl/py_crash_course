{
 "cells": [
  {
   "cell_type": "markdown",
   "metadata": {},
   "source": [
    "## Lists"
   ]
  },
  {
   "cell_type": "markdown",
   "metadata": {},
   "source": [
    "### What Is a List?"
   ]
  },
  {
   "cell_type": "markdown",
   "metadata": {},
   "source": [
    "A *list* is a collection of items in a particular order. These items could be letters of the alphabet, digits from 0-9, emjois 😀, and more. Lists are also allowed to be mixtures of items (i.e. a number, a letter, and an emoji). It can even be a list of lists.\n",
    "\n",
    "To create a list, items are placed inside square brackets ([]) and separated by commas."
   ]
  },
  {
   "cell_type": "code",
   "execution_count": 2,
   "metadata": {},
   "outputs": [
    {
     "name": "stdout",
     "output_type": "stream",
     "text": [
      "[1, 'a', [1, 2, 3]]\n"
     ]
    }
   ],
   "source": [
    "my_list = [1, 'a', [1,2,3]]\n",
    "print(my_list)"
   ]
  },
  {
   "cell_type": "markdown",
   "metadata": {},
   "source": [
    "### Accessing Elements in a List"
   ]
  },
  {
   "cell_type": "markdown",
   "metadata": {},
   "source": [
    "Lists are **ordered collections**, so elements are accessible via their position, aka index."
   ]
  },
  {
   "cell_type": "code",
   "execution_count": 3,
   "metadata": {},
   "outputs": [
    {
     "name": "stdout",
     "output_type": "stream",
     "text": [
      "1\n"
     ]
    }
   ],
   "source": [
    "print(my_list[0])"
   ]
  },
  {
   "cell_type": "markdown",
   "metadata": {},
   "source": [
    "Once a list element is accessed, it's easy to work with it as if the item was not in a list. For instance, string elements can have any related string methods applied to them."
   ]
  },
  {
   "cell_type": "code",
   "execution_count": 4,
   "metadata": {},
   "outputs": [
    {
     "name": "stdout",
     "output_type": "stream",
     "text": [
      "A\n"
     ]
    }
   ],
   "source": [
    "print(my_list[1].upper())"
   ]
  },
  {
   "cell_type": "markdown",
   "metadata": {},
   "source": [
    "### Index at 0, Not 1"
   ]
  },
  {
   "cell_type": "markdown",
   "metadata": {},
   "source": [
    "List indexing in Python follows the common programming language convention of starting at 0, not 1. Therefore, to access the first element of a list you need to use 0."
   ]
  },
  {
   "cell_type": "code",
   "execution_count": 5,
   "metadata": {},
   "outputs": [
    {
     "name": "stdout",
     "output_type": "stream",
     "text": [
      "The first element of my_list is 1.\n"
     ]
    }
   ],
   "source": [
    "print(\"The first element of my_list is \" + str(my_list[0]) + \".\")"
   ]
  },
  {
   "cell_type": "markdown",
   "metadata": {},
   "source": [
    "Python also provides special syntax for indexing starting at the last item of a list, by using -1."
   ]
  },
  {
   "cell_type": "code",
   "execution_count": 6,
   "metadata": {},
   "outputs": [
    {
     "name": "stdout",
     "output_type": "stream",
     "text": [
      "The last element of my_list is [1, 2, 3].\n"
     ]
    }
   ],
   "source": [
    "print(\"The last element of my_list is \" + str(my_list[-1]) + \".\")"
   ]
  },
  {
   "cell_type": "markdown",
   "metadata": {},
   "source": [
    "This style of *backwards* indexing can be extended by iterating over negative integers sequentially."
   ]
  },
  {
   "cell_type": "code",
   "execution_count": 9,
   "metadata": {},
   "outputs": [
    {
     "name": "stdout",
     "output_type": "stream",
     "text": [
      "The second to last element of my_list is a.\n"
     ]
    }
   ],
   "source": [
    "print(\"The second to last element of my_list is \" + str(my_list[-2]) + \".\")"
   ]
  },
  {
   "cell_type": "markdown",
   "metadata": {},
   "source": [
    "### Changing, Adding, and Removing List Elements"
   ]
  },
  {
   "cell_type": "markdown",
   "metadata": {},
   "source": [
    "### Modifying Elements in a List"
   ]
  },
  {
   "cell_type": "markdown",
   "metadata": {},
   "source": [
    "Modifying list elements is straightforward, and similar to accessing a list element. The difference is now a new value is assigned by overidding the current list element."
   ]
  },
  {
   "cell_type": "code",
   "execution_count": 10,
   "metadata": {},
   "outputs": [
    {
     "name": "stdout",
     "output_type": "stream",
     "text": [
      "[1, 'a', [1, 2, 3]]\n",
      "[2, 'a', [1, 2, 3]]\n"
     ]
    }
   ],
   "source": [
    "print(my_list)\n",
    "my_list[0] = 2\n",
    "print(my_list)"
   ]
  },
  {
   "cell_type": "markdown",
   "metadata": {},
   "source": [
    "### Adding Elements to a List"
   ]
  },
  {
   "cell_type": "markdown",
   "metadata": {},
   "source": [
    "Similar to strings, lists have built-in methods for a variety of manipulations as well. The `append()` method adds new elements to end of a list *in place*. This means the updated list doesn't need to be assigned to a new variable to store the update."
   ]
  },
  {
   "cell_type": "code",
   "execution_count": 11,
   "metadata": {},
   "outputs": [
    {
     "name": "stdout",
     "output_type": "stream",
     "text": [
      "[2, 'a', [1, 2, 3]]\n",
      "[2, 'a', [1, 2, 3], 'new_item']\n"
     ]
    }
   ],
   "source": [
    "print(my_list)\n",
    "my_list.append('new_item')\n",
    "print(my_list)"
   ]
  },
  {
   "cell_type": "markdown",
   "metadata": {},
   "source": [
    "### Inserting Elements"
   ]
  },
  {
   "cell_type": "markdown",
   "metadata": {},
   "source": [
    "Sometimes it may be important to add items to a specific index of a list. The `insert()` method allows for a new list element to be added by specifying the index. Note that this does not replace the item already in that position, but rather will shift all other list elements as needed."
   ]
  },
  {
   "cell_type": "code",
   "execution_count": 12,
   "metadata": {},
   "outputs": [
    {
     "name": "stdout",
     "output_type": "stream",
     "text": [
      "[2, 'a', [1, 2, 3], 'new_item']\n",
      "[2, 'b', 'a', [1, 2, 3], 'new_item']\n"
     ]
    }
   ],
   "source": [
    "print(my_list)\n",
    "my_list.insert(1, 'b')\n",
    "print(my_list)"
   ]
  },
  {
   "cell_type": "markdown",
   "metadata": {},
   "source": [
    "### Removing Elements"
   ]
  },
  {
   "cell_type": "markdown",
   "metadata": {},
   "source": [
    "Just as modifying and adding new elements to a list is useful, so is removing list items if that item is no longer useful. \n",
    "\n",
    "One way to do this is using the `del` statement. This statement removes an element from a list in place by specifying the item's index."
   ]
  },
  {
   "cell_type": "code",
   "execution_count": 13,
   "metadata": {},
   "outputs": [
    {
     "name": "stdout",
     "output_type": "stream",
     "text": [
      "[2, 'b', 'a', [1, 2, 3], 'new_item']\n",
      "[2, 'b', 'a', [1, 2, 3]]\n"
     ]
    }
   ],
   "source": [
    "print(my_list)\n",
    "del my_list[-1]\n",
    "print(my_list)"
   ]
  },
  {
   "cell_type": "markdown",
   "metadata": {},
   "source": [
    "However, sometimes the item removed is being removed because it needs to be used but no longer stored. This could be done by assigning the value to a variable via list indexing, and then calling the `del` statement on that index. The `pop()` method allows this to be down much more concisely, by removing a list item and then allowing that item to still be used. Note that `pop()` defaults to the last list element, but can also be provided a list index."
   ]
  },
  {
   "cell_type": "code",
   "execution_count": 14,
   "metadata": {},
   "outputs": [
    {
     "name": "stdout",
     "output_type": "stream",
     "text": [
      "[2, 'b', 'a', [1, 2, 3]]\n",
      "[1, 2, 3]\n",
      "[2, 'b', 'a']\n"
     ]
    }
   ],
   "source": [
    "print(my_list)\n",
    "print(my_list.pop())\n",
    "print(my_list)"
   ]
  },
  {
   "cell_type": "markdown",
   "metadata": {},
   "source": [
    "While these are great ways for removing list items, it requires some knowledge of where an item is indexed within a given list. In cases where the value is known, but the index isn't, the `remove()` method can be used. In instances where the same value is stored 2 or more times, `remove()` will only delete the **first** occurence of the value."
   ]
  },
  {
   "cell_type": "code",
   "execution_count": 15,
   "metadata": {},
   "outputs": [
    {
     "name": "stdout",
     "output_type": "stream",
     "text": [
      "[2, 'b', 'a']\n",
      "['b', 'a']\n"
     ]
    }
   ],
   "source": [
    "print(my_list)\n",
    "my_list.remove(2)\n",
    "print(my_list)"
   ]
  },
  {
   "cell_type": "markdown",
   "metadata": {},
   "source": [
    "### Organizing a List"
   ]
  },
  {
   "cell_type": "markdown",
   "metadata": {},
   "source": [
    "### Sorting Lists Permanently"
   ]
  },
  {
   "cell_type": "markdown",
   "metadata": {},
   "source": [
    "To sort a list in place, the `sort()` method is available."
   ]
  },
  {
   "cell_type": "code",
   "execution_count": 16,
   "metadata": {},
   "outputs": [
    {
     "name": "stdout",
     "output_type": "stream",
     "text": [
      "['b', 'a']\n",
      "['a', 'b']\n"
     ]
    }
   ],
   "source": [
    "print(my_list)\n",
    "my_list.sort()\n",
    "print(my_list)"
   ]
  },
  {
   "cell_type": "markdown",
   "metadata": {},
   "source": [
    "The default behavior is alphabetical order, or least to greatest with numbers. Setting the parameter `reverse=True` will reverse the order of sorting."
   ]
  },
  {
   "cell_type": "code",
   "execution_count": 17,
   "metadata": {},
   "outputs": [
    {
     "name": "stdout",
     "output_type": "stream",
     "text": [
      "['a', 'b']\n",
      "['b', 'a']\n"
     ]
    }
   ],
   "source": [
    "print(my_list)\n",
    "my_list.sort(reverse=True)\n",
    "print(my_list)"
   ]
  },
  {
   "cell_type": "markdown",
   "metadata": {},
   "source": [
    "### Sorting Lists Temporarily"
   ]
  },
  {
   "cell_type": "markdown",
   "metadata": {},
   "source": [
    "If more flexibility is needed, and sorting only needs to be done temporarily, then the `sorted()` function can be used."
   ]
  },
  {
   "cell_type": "code",
   "execution_count": 18,
   "metadata": {},
   "outputs": [
    {
     "name": "stdout",
     "output_type": "stream",
     "text": [
      "['b', 'a']\n",
      "['a', 'b']\n",
      "['b', 'a']\n"
     ]
    }
   ],
   "source": [
    "print(my_list)\n",
    "print(sorted(my_list))\n",
    "print(my_list)"
   ]
  },
  {
   "cell_type": "markdown",
   "metadata": {},
   "source": [
    "### Reversing List Elements"
   ]
  },
  {
   "cell_type": "markdown",
   "metadata": {},
   "source": [
    "The `reverse()` method will take a list's elements and reverse their order in place."
   ]
  },
  {
   "cell_type": "code",
   "execution_count": 19,
   "metadata": {},
   "outputs": [
    {
     "name": "stdout",
     "output_type": "stream",
     "text": [
      "['b', 'a']\n",
      "['a', 'b']\n"
     ]
    }
   ],
   "source": [
    "print(my_list)\n",
    "my_list.reverse()\n",
    "print(my_list)"
   ]
  },
  {
   "cell_type": "markdown",
   "metadata": {},
   "source": [
    "### Finding the Length of a List"
   ]
  },
  {
   "cell_type": "markdown",
   "metadata": {},
   "source": [
    "A useful way of counting the number of items in a list is the `len()` function."
   ]
  },
  {
   "cell_type": "code",
   "execution_count": 20,
   "metadata": {},
   "outputs": [
    {
     "name": "stdout",
     "output_type": "stream",
     "text": [
      "2\n"
     ]
    }
   ],
   "source": [
    "print(len(my_list))"
   ]
  }
 ],
 "metadata": {
  "kernelspec": {
   "display_name": "Python 3",
   "language": "python",
   "name": "python3"
  },
  "language_info": {
   "codemirror_mode": {
    "name": "ipython",
    "version": 3
   },
   "file_extension": ".py",
   "mimetype": "text/x-python",
   "name": "python",
   "nbconvert_exporter": "python",
   "pygments_lexer": "ipython3",
   "version": "3.7.7"
  }
 },
 "nbformat": 4,
 "nbformat_minor": 4
}
