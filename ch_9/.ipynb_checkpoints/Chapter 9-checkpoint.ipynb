{
 "cells": [
  {
   "cell_type": "markdown",
   "metadata": {},
   "source": [
    "## Classes"
   ]
  },
  {
   "cell_type": "markdown",
   "metadata": {},
   "source": [
    "*Object-oriented programming* is one of the most fundamental approaches to software development. In OOP *classes* are created to represent real-world things and situations, and *objects* are created based on these classes. When a class is written it defines the general behavior that a whole category of objects can have.\n",
    "\n",
    "When an object is created from a class, it inherits all of this behavior. This provides a baseline framework that can be further modified for that specific class.\n",
    "\n",
    "The process of making an object from a class is called *instantiation*, and the object itself is referred to as an instance of that class."
   ]
  },
  {
   "cell_type": "markdown",
   "metadata": {},
   "source": [
    "### Creating and Using a Class"
   ]
  },
  {
   "cell_type": "code",
   "execution_count": 2,
   "metadata": {},
   "outputs": [],
   "source": [
    "class Dog():\n",
    "    \"\"\"A simple attempt to model a dog.\"\"\"\n",
    "    \n",
    "    def __init__(self, name, age):\n",
    "        \"\"\"Initialize name and age attributes.\"\"\"\n",
    "        self.name = name\n",
    "        self.age = age\n",
    "        \n",
    "    def sit(self):\n",
    "        \"\"\"Simulate a dog sitting in response to a command.\"\"\"\n",
    "        print(self.name.title() + \" is now sitting.\")\n",
    "        \n",
    "    def roll_over(self):\n",
    "        \"\"\"Simulate a dog rolling over in response to a command.\"\"\"\n",
    "        print(self.name.title() + \" rolled over!\")"
   ]
  },
  {
   "cell_type": "markdown",
   "metadata": {},
   "source": [
    "Defining a class in Python starts by using the keyword `class` followed by the class's name. It is convention for class names to be capitalized. Strings surrounded by `\"\"\"\"\"\"` are **docstrings** and provide a description of a class or function.\n",
    "\n",
    "### The __init__() Method\n",
    "Functions that are a part of a class are called *methods*. Methods are basically functions attached to classes. The `__init__()` method is a special method that Python runs each time a new instance of a class is created. The odd name is to prevent any potential naming conflicts between this method and class specific methods. It is sometimes referred to as the **dunder** method or **dunder init dunder** method.\n",
    "\n",
    "The dunder method is always created with the `self` parameter in the first position. "
   ]
  },
  {
   "cell_type": "code",
   "execution_count": null,
   "metadata": {},
   "outputs": [],
   "source": []
  }
 ],
 "metadata": {
  "kernelspec": {
   "display_name": "Python 3",
   "language": "python",
   "name": "python3"
  },
  "language_info": {
   "codemirror_mode": {
    "name": "ipython",
    "version": 3
   },
   "file_extension": ".py",
   "mimetype": "text/x-python",
   "name": "python",
   "nbconvert_exporter": "python",
   "pygments_lexer": "ipython3",
   "version": "3.7.7"
  }
 },
 "nbformat": 4,
 "nbformat_minor": 4
}
